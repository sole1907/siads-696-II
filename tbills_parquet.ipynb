{
 "cells": [
  {
   "cell_type": "code",
   "execution_count": 3,
   "id": "440afb24",
   "metadata": {},
   "outputs": [],
   "source": [
    "import wrds\n",
    "import pandas as pd"
   ]
  },
  {
   "cell_type": "code",
   "execution_count": 4,
   "id": "6d2e136c",
   "metadata": {},
   "outputs": [
    {
     "name": "stdout",
     "output_type": "stream",
     "text": [
      "Loading library list...\n",
      "Done\n"
     ]
    }
   ],
   "source": [
    "db = wrds.Connection(wrds_username='ayansola')\n",
    "# setup pg_pass needed for access to the wrds dataset (first time only)\n",
    "# db.create_pgpass_file()"
   ]
  },
  {
   "cell_type": "code",
   "execution_count": 5,
   "id": "d46ede71",
   "metadata": {},
   "outputs": [],
   "source": [
    "params = {\n",
    "    \"from_date\": \"2005-01-01\",\n",
    "    \"to_date\": \"2023-12-31\"\n",
    "}\n",
    "\n",
    "t_bill = db.raw_sql(\n",
    "    \"\"\"\n",
    "    SELECT date, dgs2 as treasury_2y\n",
    "    FROM frb.rates_daily\n",
    "    WHERE date BETWEEN %(from_date)s AND %(to_date)s\n",
    "    \"\"\",\n",
    "    params=params,\n",
    ")"
   ]
  },
  {
   "cell_type": "code",
   "execution_count": 6,
   "id": "ea47fe6d",
   "metadata": {},
   "outputs": [],
   "source": [
    "t_bill['date'] = pd.to_datetime(t_bill['date'])"
   ]
  },
  {
   "cell_type": "code",
   "execution_count": 7,
   "id": "6c7b4ad1",
   "metadata": {},
   "outputs": [
    {
     "data": {
      "text/html": [
       "<div>\n",
       "<style scoped>\n",
       "    .dataframe tbody tr th:only-of-type {\n",
       "        vertical-align: middle;\n",
       "    }\n",
       "\n",
       "    .dataframe tbody tr th {\n",
       "        vertical-align: top;\n",
       "    }\n",
       "\n",
       "    .dataframe thead th {\n",
       "        text-align: right;\n",
       "    }\n",
       "</style>\n",
       "<table border=\"1\" class=\"dataframe\">\n",
       "  <thead>\n",
       "    <tr style=\"text-align: right;\">\n",
       "      <th></th>\n",
       "      <th>date</th>\n",
       "      <th>treasury_2y</th>\n",
       "    </tr>\n",
       "  </thead>\n",
       "  <tbody>\n",
       "    <tr>\n",
       "      <th>1960</th>\n",
       "      <td>2010-05-15</td>\n",
       "      <td>&lt;NA&gt;</td>\n",
       "    </tr>\n",
       "    <tr>\n",
       "      <th>1146</th>\n",
       "      <td>2008-02-21</td>\n",
       "      <td>1.98</td>\n",
       "    </tr>\n",
       "    <tr>\n",
       "      <th>4718</th>\n",
       "      <td>2017-12-02</td>\n",
       "      <td>&lt;NA&gt;</td>\n",
       "    </tr>\n",
       "    <tr>\n",
       "      <th>3075</th>\n",
       "      <td>2013-06-03</td>\n",
       "      <td>0.3</td>\n",
       "    </tr>\n",
       "    <tr>\n",
       "      <th>1673</th>\n",
       "      <td>2009-08-01</td>\n",
       "      <td>&lt;NA&gt;</td>\n",
       "    </tr>\n",
       "  </tbody>\n",
       "</table>\n",
       "</div>"
      ],
      "text/plain": [
       "           date  treasury_2y\n",
       "1960 2010-05-15         <NA>\n",
       "1146 2008-02-21         1.98\n",
       "4718 2017-12-02         <NA>\n",
       "3075 2013-06-03          0.3\n",
       "1673 2009-08-01         <NA>"
      ]
     },
     "execution_count": 7,
     "metadata": {},
     "output_type": "execute_result"
    }
   ],
   "source": [
    "t_bill.sample(5)"
   ]
  },
  {
   "cell_type": "code",
   "execution_count": 9,
   "id": "17d6ed79",
   "metadata": {},
   "outputs": [],
   "source": [
    "t_bill['year'] = pd.to_datetime(t_bill['date']).dt.year"
   ]
  },
  {
   "cell_type": "code",
   "execution_count": 10,
   "id": "5b1ea487",
   "metadata": {},
   "outputs": [],
   "source": [
    "# Write to Parquet with partitioning\n",
    "t_bill.to_parquet(\n",
    "    \"tbills/\",\n",
    "    engine=\"pyarrow\",        # or \"fastparquet\"\n",
    "    partition_cols=[\"year\"],\n",
    "    index=False\n",
    ")"
   ]
  },
  {
   "cell_type": "code",
   "execution_count": null,
   "id": "0937deb7",
   "metadata": {},
   "outputs": [],
   "source": []
  }
 ],
 "metadata": {
  "kernelspec": {
   "display_name": "Python 3 (ipykernel)",
   "language": "python",
   "name": "python3"
  },
  "language_info": {
   "codemirror_mode": {
    "name": "ipython",
    "version": 3
   },
   "file_extension": ".py",
   "mimetype": "text/x-python",
   "name": "python",
   "nbconvert_exporter": "python",
   "pygments_lexer": "ipython3",
   "version": "3.11.4"
  }
 },
 "nbformat": 4,
 "nbformat_minor": 5
}
