{
 "cells": [
  {
   "cell_type": "markdown",
   "id": "c73f25ef",
   "metadata": {},
   "source": [
    "__Exploratory Data Analysis (EDA)__\n",
    "\n",
    "- Inspect distributions, missing values, outliers.\n",
    "- Plot time series of IV, skew, curvature.\n",
    "- Compare SPY vs QQQ.\n",
    "- Correlation checks.\n",
    "- Document findings."
   ]
  },
  {
   "cell_type": "code",
   "execution_count": 1,
   "id": "ebc85e71",
   "metadata": {},
   "outputs": [],
   "source": [
    "import wrds\n",
    "import pandas as pd\n",
    "import matplotlib.pyplot as plt\n",
    "import seaborn as sns\n",
    "import statsmodels.api as sm\n",
    "from statsmodels.tsa.stattools import adfuller"
   ]
  },
  {
   "cell_type": "markdown",
   "id": "4e46e13b",
   "metadata": {},
   "source": [
    "__Load the filtered parquet__"
   ]
  },
  {
   "cell_type": "code",
   "execution_count": null,
   "id": "0325ef20",
   "metadata": {},
   "outputs": [],
   "source": [
    "df = pd.read_parquet(\"options_filtered/\", engine=\"fastparquet\")\n",
    "df.head()"
   ]
  },
  {
   "cell_type": "markdown",
   "id": "1aad8596",
   "metadata": {},
   "source": [
    "__Inspect distributions, missing values, outliers__"
   ]
  },
  {
   "cell_type": "code",
   "execution_count": null,
   "id": "c05b2ff4",
   "metadata": {
    "scrolled": true
   },
   "outputs": [],
   "source": [
    "df.info()"
   ]
  },
  {
   "cell_type": "code",
   "execution_count": null,
   "id": "698d46ca",
   "metadata": {
    "scrolled": true
   },
   "outputs": [],
   "source": [
    "df.isna().sum()"
   ]
  },
  {
   "cell_type": "code",
   "execution_count": null,
   "id": "e9b38413",
   "metadata": {},
   "outputs": [],
   "source": [
    "# Unique symbols\n",
    "print(df['ticker'].unique())\n",
    "\n",
    "# Or with counts\n",
    "print(df['ticker'].value_counts())"
   ]
  },
  {
   "cell_type": "code",
   "execution_count": null,
   "id": "2bea22ae",
   "metadata": {},
   "outputs": [],
   "source": [
    "fig, axes = plt.subplots(2,1, figsize=(12,10))\n",
    "\n",
    "# Distribution of IV\n",
    "sns.histplot(data=df, x='impl_volatility', bins=50, kde=True, ax = axes[0])\n",
    "axes[0].set_title(\"Distribution of Implied Volatility\")\n",
    "\n",
    "# Boxplot by symbol\n",
    "sns.boxplot(x='ticker', y='impl_volatility', data=df, ax = axes[1])\n",
    "axes[1].set_title(\"IV Distribution by Ticker\")\n",
    "\n",
    "plt.tight_layout()\n",
    "plt.show()"
   ]
  },
  {
   "cell_type": "markdown",
   "id": "3775e155",
   "metadata": {},
   "source": [
    "Implied volatility is concentrated between roughly 15% and 30%, with very few outliers above 30%. This suggests the dataset is clean after filtering. SPY and QQQ show broadly similar IV distributions, with QQQ’s median only slightly higher, reflecting modest sector risk differences. Outliers above 0.3 may represent short‑term stress events or occasional bad quotes, but they are rare and do not dominate the distribution."
   ]
  },
  {
   "cell_type": "markdown",
   "id": "716e74e3",
   "metadata": {},
   "source": [
    "__Aggregate daily features (ATM IV, skew, curvature)__"
   ]
  },
  {
   "cell_type": "code",
   "execution_count": null,
   "id": "7ed52c82",
   "metadata": {},
   "outputs": [],
   "source": [
    "features = []\n",
    "\n",
    "# Group by date and symbol (ticker)\n",
    "for (date, ticker), group in df.groupby(['date','ticker']):\n",
    "    group = group.copy()\n",
    "    \n",
    "    # --- ATM IV by delta ---\n",
    "    atm_row = group.iloc[(group['delta'].abs() - 0.5).abs().argsort()[:1]]\n",
    "    atm_iv = atm_row['impl_volatility'].values[0]\n",
    "\n",
    "    # --- 25-delta put and call ---\n",
    "    put25 = group.loc[group['cp_flag'] == 'P']\n",
    "    call25 = group.loc[group['cp_flag'] == 'C']\n",
    "\n",
    "    if not put25.empty and not call25.empty:\n",
    "        put25_idx = (put25['delta'] + 0.25).abs().idxmin()\n",
    "        call25_idx = (call25['delta'] - 0.25).abs().idxmin()\n",
    "\n",
    "        iv_put25 = group.loc[put25_idx, 'impl_volatility']\n",
    "        iv_call25 = group.loc[call25_idx, 'impl_volatility']\n",
    "\n",
    "        skew = iv_put25 - iv_call25\n",
    "        curvature = (iv_put25 + iv_call25) / 2 - atm_iv\n",
    "    else:\n",
    "        skew = curvature = np.nan\n",
    "\n",
    "    features.append({\n",
    "        'date': date,\n",
    "        'ticker': ticker,\n",
    "        'ATM_IV': atm_iv,\n",
    "        'Skew': skew,\n",
    "        'Curvature': curvature\n",
    "    })\n",
    "\n",
    "features_df = pd.DataFrame(features)\n",
    "features_df.head()"
   ]
  },
  {
   "cell_type": "markdown",
   "id": "54f86657",
   "metadata": {},
   "source": [
    "Pull in the TBills Secondary Market 3-month (dtb3) and Treasury Constant Maturity 2-year (dgs2) from WRDS FRB and join by date"
   ]
  },
  {
   "cell_type": "code",
   "execution_count": null,
   "id": "73540b37",
   "metadata": {},
   "outputs": [],
   "source": [
    "db = wrds.Connection(wrds_username='ayansola')\n",
    "# setup pg_pass needed for access to the wrds dataset (first time only)\n",
    "# db.create_pgpass_file()"
   ]
  },
  {
   "cell_type": "code",
   "execution_count": null,
   "id": "c73b2386",
   "metadata": {},
   "outputs": [],
   "source": [
    "params = {\n",
    "    \"from_date\": \"2022-01-01\",\n",
    "    \"to_date\": \"2023-12-31\"\n",
    "}\n",
    "\n",
    "t_bill = db.raw_sql(\n",
    "    \"\"\"\n",
    "    SELECT date, dtb3 as tbills_3m, dgs2 as treasury_2y\n",
    "    FROM frb.rates_daily\n",
    "    WHERE date BETWEEN %(from_date)s AND %(to_date)s\n",
    "    \"\"\",\n",
    "    params=params,\n",
    ")"
   ]
  },
  {
   "cell_type": "code",
   "execution_count": null,
   "id": "5b081f37",
   "metadata": {},
   "outputs": [],
   "source": [
    "t_bill.dtypes"
   ]
  },
  {
   "cell_type": "code",
   "execution_count": null,
   "id": "5e41ec84",
   "metadata": {},
   "outputs": [],
   "source": [
    "t_bill['date'] = pd.to_datetime(t_bill['date'])"
   ]
  },
  {
   "cell_type": "code",
   "execution_count": null,
   "id": "52557862",
   "metadata": {},
   "outputs": [],
   "source": [
    "t_bill.info()"
   ]
  },
  {
   "cell_type": "code",
   "execution_count": null,
   "id": "bad57c9c",
   "metadata": {},
   "outputs": [],
   "source": [
    "t_bill.head()"
   ]
  },
  {
   "cell_type": "code",
   "execution_count": null,
   "id": "42374ad1",
   "metadata": {},
   "outputs": [],
   "source": [
    "features_df = features_df.merge(t_bill[['date','tbills_3m', 'treasury_2y']], on='date', how='left')"
   ]
  },
  {
   "cell_type": "code",
   "execution_count": null,
   "id": "f72d3e2a",
   "metadata": {},
   "outputs": [],
   "source": [
    "features_df.head()"
   ]
  },
  {
   "cell_type": "markdown",
   "id": "0387fe81",
   "metadata": {},
   "source": [
    "__Plot time series of IV, skew, curvature & compare SPY vs QQQ__"
   ]
  },
  {
   "cell_type": "code",
   "execution_count": null,
   "id": "057fe87c",
   "metadata": {},
   "outputs": [],
   "source": [
    "fig, axes = plt.subplots(5,1, figsize=(12,16))\n",
    "\n",
    "sns.lineplot(data=features_df, x='date', y='ATM_IV', hue='ticker', ax = axes[0])\n",
    "axes[0].set_title(\"ATM IV Over Time\")\n",
    "\n",
    "sns.lineplot(data=features_df, x='date', y='Skew', hue='ticker', ax = axes[1])\n",
    "axes[1].set_title(\"Skew Over Time\")\n",
    "\n",
    "sns.lineplot(data=features_df, x='date', y='Curvature', hue='ticker', ax = axes[2])\n",
    "axes[2].set_title(\"Curvature Over Time\")\n",
    "\n",
    "sns.lineplot(data=features_df, x='date', y='tbills_3m', ax = axes[3])\n",
    "axes[3].set_title(\"3 month TBills Secondary Market Over Time\")\n",
    "\n",
    "sns.lineplot(data=features_df, x='date', y='treasury_2y', ax = axes[4])\n",
    "axes[4].set_title(\"Treasury Constant Maturity 2-year Over Time\")\n",
    "\n",
    "\n",
    "# sns.lineplot(data=features_df, x='date', y='dtb1yr', ax = axes[3])\n",
    "# axes[6].set_title(\"1 year TBills Secondary Market Over Time\")\n",
    "\n",
    "plt.tight_layout()\n",
    "plt.show()"
   ]
  },
  {
   "cell_type": "markdown",
   "id": "abc26f24",
   "metadata": {},
   "source": [
    "- Both symbols experience occasional, brief volatility spikes, with QQQ’s being more pronounced.\n",
    "\n",
    "- QQQ’s skew is more volatile and often higher, pointing to increased demand for put options\n",
    "\n",
    "- Curvature is persistently positive for both\n",
    "\n",
    "- Implied volatility doesn’t track with short‑term rates like the 3‑month bill, but it does respond more visibly to shifts in the 2‑year yield as seen above"
   ]
  },
  {
   "cell_type": "code",
   "execution_count": null,
   "id": "7747dd6c",
   "metadata": {},
   "outputs": [],
   "source": [
    "# drop dtb3 since IV doesn't track with it\n",
    "features_df = features_df.drop(columns=['tbills_3m'])"
   ]
  },
  {
   "cell_type": "markdown",
   "id": "c85b5891",
   "metadata": {},
   "source": [
    "__Correlation checks__"
   ]
  },
  {
   "cell_type": "code",
   "execution_count": null,
   "id": "a9c182e7",
   "metadata": {
    "scrolled": false
   },
   "outputs": [],
   "source": [
    "metrics = ['ATM_IV', 'Skew', 'Curvature']\n",
    "\n",
    "for metric in metrics:\n",
    "    pivot = features_df.pivot(index='date', columns='ticker', values=metric)\n",
    "    corr = pivot.corr()\n",
    "    sns.heatmap(corr, annot=True, cmap='coolwarm', vmin=-1, vmax=1)\n",
    "    plt.title(f\"Correlation of {metric} between SPY and QQQ\")\n",
    "    plt.show()"
   ]
  },
  {
   "cell_type": "markdown",
   "id": "e2ef714c",
   "metadata": {},
   "source": [
    "Volatility levels between SPY and QQQ are highly synchronized, skew is moderately aligned but allows for divergence, and curvature behaves almost independently."
   ]
  },
  {
   "cell_type": "code",
   "execution_count": null,
   "id": "ea2e4485",
   "metadata": {},
   "outputs": [],
   "source": [
    "series = features_df[features_df['ticker']=='SPY']['ATM_IV']\n",
    "result = adfuller(series.dropna())\n",
    "print(\"ADF Statistic:\", result[0])\n",
    "print(\"p-value:\", result[1])"
   ]
  },
  {
   "cell_type": "markdown",
   "id": "3744e78c",
   "metadata": {},
   "source": [
    "### EDA Summary\n",
    "- **Data quality:** No major missing values.\n",
    "- **Distributions:** SPY && QQQ IV show broadly similar distributions with SPY IV centered lower than QQQ\n",
    "- **Time series:** Both symbols show volatility spikes around market stress dates.\n",
    "- **Correlations:** ATM IV highly correlated (SPY vs QQQ ~0.8)."
   ]
  },
  {
   "cell_type": "markdown",
   "id": "a9157af2",
   "metadata": {},
   "source": [
    "__Save Aggregate daily features to Parquet: partition by symbol/year for downstream use.__"
   ]
  },
  {
   "cell_type": "code",
   "execution_count": null,
   "id": "51d112de",
   "metadata": {},
   "outputs": [],
   "source": [
    "features_df['year'] = pd.to_datetime(features_df['date']).dt.year\n",
    "\n",
    "# Write to Parquet with partitioning\n",
    "features_df.to_parquet(\n",
    "    \"features_parquet/\",\n",
    "    engine=\"fastparquet\",        # or \"pyarrow\"\n",
    "    partition_cols=[\"ticker\", \"year\"],\n",
    "    index=False\n",
    ")"
   ]
  },
  {
   "cell_type": "code",
   "execution_count": null,
   "id": "1d37a649",
   "metadata": {},
   "outputs": [],
   "source": []
  }
 ],
 "metadata": {
  "kernelspec": {
   "display_name": "Python 3 (ipykernel)",
   "language": "python",
   "name": "python3"
  },
  "language_info": {
   "codemirror_mode": {
    "name": "ipython",
    "version": 3
   },
   "file_extension": ".py",
   "mimetype": "text/x-python",
   "name": "python",
   "nbconvert_exporter": "python",
   "pygments_lexer": "ipython3",
   "version": "3.11.4"
  }
 },
 "nbformat": 4,
 "nbformat_minor": 5
}
