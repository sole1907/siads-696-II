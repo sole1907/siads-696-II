{
 "cells": [
  {
   "cell_type": "markdown",
   "id": "abdb1214",
   "metadata": {},
   "source": [
    "__Forecasting__\n",
    "\n",
    "- Build sequences (input windows).\n",
    "- Train baselines (naive, EWMA).\n",
    "- Train LSTM/GRU (direct multi‑output); tune window, depths, dropout.\n",
    "- Evaluate per horizon and by regime; rolling origin backtest.\n",
    "- Refine with regime‑aware heads or Seq2Seq if needed."
   ]
  },
  {
   "cell_type": "code",
   "execution_count": 11,
   "id": "ef8a9163",
   "metadata": {},
   "outputs": [],
   "source": [
    "import pandas as pd\n",
    "import numpy as np\n",
    "from sklearn.preprocessing import StandardScaler"
   ]
  },
  {
   "cell_type": "markdown",
   "id": "40fc4a9e",
   "metadata": {},
   "source": [
    "__Load parquet with aggregated features and regimes__"
   ]
  },
  {
   "cell_type": "code",
   "execution_count": 17,
   "id": "efa97417",
   "metadata": {},
   "outputs": [
    {
     "data": {
      "text/html": [
       "<div>\n",
       "<style scoped>\n",
       "    .dataframe tbody tr th:only-of-type {\n",
       "        vertical-align: middle;\n",
       "    }\n",
       "\n",
       "    .dataframe tbody tr th {\n",
       "        vertical-align: top;\n",
       "    }\n",
       "\n",
       "    .dataframe thead th {\n",
       "        text-align: right;\n",
       "    }\n",
       "</style>\n",
       "<table border=\"1\" class=\"dataframe\">\n",
       "  <thead>\n",
       "    <tr style=\"text-align: right;\">\n",
       "      <th></th>\n",
       "      <th>date</th>\n",
       "      <th>ATM_IV</th>\n",
       "      <th>Skew</th>\n",
       "      <th>Curvature</th>\n",
       "      <th>dgs2</th>\n",
       "      <th>ticker</th>\n",
       "      <th>year</th>\n",
       "      <th>Regime_K</th>\n",
       "    </tr>\n",
       "  </thead>\n",
       "  <tbody>\n",
       "    <tr>\n",
       "      <th>0</th>\n",
       "      <td>2023-01-03</td>\n",
       "      <td>0.282223</td>\n",
       "      <td>0.047618</td>\n",
       "      <td>-0.000384</td>\n",
       "      <td>4.40</td>\n",
       "      <td>QQQ</td>\n",
       "      <td>2023</td>\n",
       "      <td>1</td>\n",
       "    </tr>\n",
       "    <tr>\n",
       "      <th>1</th>\n",
       "      <td>2023-01-04</td>\n",
       "      <td>0.274456</td>\n",
       "      <td>0.061536</td>\n",
       "      <td>-0.001318</td>\n",
       "      <td>4.36</td>\n",
       "      <td>QQQ</td>\n",
       "      <td>2023</td>\n",
       "      <td>1</td>\n",
       "    </tr>\n",
       "    <tr>\n",
       "      <th>2</th>\n",
       "      <td>2023-01-05</td>\n",
       "      <td>0.282380</td>\n",
       "      <td>0.038932</td>\n",
       "      <td>-0.006200</td>\n",
       "      <td>4.45</td>\n",
       "      <td>QQQ</td>\n",
       "      <td>2023</td>\n",
       "      <td>1</td>\n",
       "    </tr>\n",
       "    <tr>\n",
       "      <th>3</th>\n",
       "      <td>2023-01-06</td>\n",
       "      <td>0.258931</td>\n",
       "      <td>0.052242</td>\n",
       "      <td>0.000721</td>\n",
       "      <td>4.24</td>\n",
       "      <td>QQQ</td>\n",
       "      <td>2023</td>\n",
       "      <td>1</td>\n",
       "    </tr>\n",
       "    <tr>\n",
       "      <th>4</th>\n",
       "      <td>2023-01-09</td>\n",
       "      <td>0.267719</td>\n",
       "      <td>0.045165</td>\n",
       "      <td>0.001320</td>\n",
       "      <td>4.19</td>\n",
       "      <td>QQQ</td>\n",
       "      <td>2023</td>\n",
       "      <td>1</td>\n",
       "    </tr>\n",
       "  </tbody>\n",
       "</table>\n",
       "</div>"
      ],
      "text/plain": [
       "        date    ATM_IV      Skew  Curvature  dgs2 ticker  year  Regime_K\n",
       "0 2023-01-03  0.282223  0.047618  -0.000384  4.40    QQQ  2023         1\n",
       "1 2023-01-04  0.274456  0.061536  -0.001318  4.36    QQQ  2023         1\n",
       "2 2023-01-05  0.282380  0.038932  -0.006200  4.45    QQQ  2023         1\n",
       "3 2023-01-06  0.258931  0.052242   0.000721  4.24    QQQ  2023         1\n",
       "4 2023-01-09  0.267719  0.045165   0.001320  4.19    QQQ  2023         1"
      ]
     },
     "execution_count": 17,
     "metadata": {},
     "output_type": "execute_result"
    }
   ],
   "source": [
    "regimes_df = pd.read_parquet(\"daily_features_with_regimes.parquet\") \n",
    "regimes_df.head()"
   ]
  },
  {
   "cell_type": "code",
   "execution_count": null,
   "id": "d5b4efcb",
   "metadata": {},
   "outputs": [],
   "source": [
    "Yes — before building sequence windows, we should normalize the features (e.g., z‑score scaling) so that ATM_IV, Skew, Curvature, and dgs2 are on comparable scales. This reduces bias toward large‑magnitude variables and stabilizes training."
   ]
  },
  {
   "cell_type": "code",
   "execution_count": null,
   "id": "bee63aa1",
   "metadata": {},
   "outputs": [],
   "source": [
    "scale_cols = ['ATM_IV','Skew','Curvature','dgs2']\n",
    "scaler = StandardScaler()\n",
    "regimes_df[scale_cols] = scaler.fit_transform(regimes_df[scale_cols])"
   ]
  },
  {
   "cell_type": "code",
   "execution_count": null,
   "id": "4a8e3fb6",
   "metadata": {},
   "outputs": [],
   "source": [
    "Since Regime_K is a categorical state label with no natural ordering, it’s better to one‑hot encode it before feeding into the model, rather than keeping it as a raw integer."
   ]
  },
  {
   "cell_type": "code",
   "execution_count": 22,
   "id": "0d08bb4b",
   "metadata": {},
   "outputs": [
    {
     "name": "stdout",
     "output_type": "stream",
     "text": [
      "X shape: (80, 20, 5)\n",
      "y shape: (80, 3)\n"
     ]
    },
    {
     "name": "stderr",
     "output_type": "stream",
     "text": [
      "/var/folders/g0/21_2mymx5mn788q92btxg65m0000gn/T/ipykernel_78922/3019223361.py:7: FutureWarning: The default of observed=False is deprecated and will be changed to True in a future version of pandas. Pass observed=False to retain current behavior or observed=True to adopt the future default and silence this warning.\n",
      "  for ticker, g in regimes_df.groupby('ticker'):\n"
     ]
    }
   ],
   "source": [
    "W = 20   # input window length - increase with more data\n",
    "H = 3    # forecast horizon (3 trading days ahead), target is 30\n",
    "\n",
    "Xs, ys, meta = [], [], []\n",
    "\n",
    "for ticker, g in regimes_df.groupby('ticker'):\n",
    "    g = g.sort_values('date').reset_index(drop=True)\n",
    "    \n",
    "    # Features\n",
    "    X_mat = g[feature_cols].values\n",
    "    # Targets: next 3 trading days of ATM_IV\n",
    "    y_mat = g['ATM_IV'].values\n",
    "    dates = g['date'].values\n",
    "    \n",
    "    for i in range(W-1, len(g)-H):\n",
    "        x_win = X_mat[i-W+1:i+1]           # shape (W, F)\n",
    "        y_target = y_mat[i+1:i+H+1]        # shape (3,)\n",
    "        \n",
    "        if np.isnan(y_target).any() or np.isnan(x_win).any():\n",
    "            continue\n",
    "        \n",
    "        Xs.append(x_win)\n",
    "        ys.append(y_target)\n",
    "        meta.append({'ticker': ticker, 'end_date': dates[i]})\n",
    "\n",
    "X = np.array(Xs)   # shape: (N, W, F)\n",
    "y = np.array(ys)   # shape: (N, H) where H=3\n",
    "meta = pd.DataFrame(meta)\n",
    "\n",
    "print(\"X shape:\", X.shape)  # (samples, timesteps, features)\n",
    "print(\"y shape:\", y.shape)  # (samples, 3)"
   ]
  },
  {
   "cell_type": "code",
   "execution_count": 23,
   "id": "18744131",
   "metadata": {},
   "outputs": [
    {
     "data": {
      "text/html": [
       "<div>\n",
       "<style scoped>\n",
       "    .dataframe tbody tr th:only-of-type {\n",
       "        vertical-align: middle;\n",
       "    }\n",
       "\n",
       "    .dataframe tbody tr th {\n",
       "        vertical-align: top;\n",
       "    }\n",
       "\n",
       "    .dataframe thead th {\n",
       "        text-align: right;\n",
       "    }\n",
       "</style>\n",
       "<table border=\"1\" class=\"dataframe\">\n",
       "  <thead>\n",
       "    <tr style=\"text-align: right;\">\n",
       "      <th></th>\n",
       "      <th>ticker</th>\n",
       "      <th>end_date</th>\n",
       "    </tr>\n",
       "  </thead>\n",
       "  <tbody>\n",
       "    <tr>\n",
       "      <th>0</th>\n",
       "      <td>QQQ</td>\n",
       "      <td>2023-01-31</td>\n",
       "    </tr>\n",
       "    <tr>\n",
       "      <th>1</th>\n",
       "      <td>QQQ</td>\n",
       "      <td>2023-02-01</td>\n",
       "    </tr>\n",
       "    <tr>\n",
       "      <th>2</th>\n",
       "      <td>QQQ</td>\n",
       "      <td>2023-02-02</td>\n",
       "    </tr>\n",
       "    <tr>\n",
       "      <th>3</th>\n",
       "      <td>QQQ</td>\n",
       "      <td>2023-02-03</td>\n",
       "    </tr>\n",
       "    <tr>\n",
       "      <th>4</th>\n",
       "      <td>QQQ</td>\n",
       "      <td>2023-02-06</td>\n",
       "    </tr>\n",
       "  </tbody>\n",
       "</table>\n",
       "</div>"
      ],
      "text/plain": [
       "  ticker   end_date\n",
       "0    QQQ 2023-01-31\n",
       "1    QQQ 2023-02-01\n",
       "2    QQQ 2023-02-02\n",
       "3    QQQ 2023-02-03\n",
       "4    QQQ 2023-02-06"
      ]
     },
     "execution_count": 23,
     "metadata": {},
     "output_type": "execute_result"
    }
   ],
   "source": [
    "meta.head()"
   ]
  },
  {
   "cell_type": "code",
   "execution_count": null,
   "id": "19d878e0",
   "metadata": {},
   "outputs": [],
   "source": []
  }
 ],
 "metadata": {
  "kernelspec": {
   "display_name": "Python 3 (ipykernel)",
   "language": "python",
   "name": "python3"
  },
  "language_info": {
   "codemirror_mode": {
    "name": "ipython",
    "version": 3
   },
   "file_extension": ".py",
   "mimetype": "text/x-python",
   "name": "python",
   "nbconvert_exporter": "python",
   "pygments_lexer": "ipython3",
   "version": "3.11.4"
  }
 },
 "nbformat": 4,
 "nbformat_minor": 5
}
